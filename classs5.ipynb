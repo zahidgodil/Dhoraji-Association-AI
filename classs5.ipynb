{
 "cells": [
  {
   "cell_type": "code",
   "execution_count": null,
   "metadata": {},
   "outputs": [],
   "source": [
    "name = input(\"Enter your name :\").lower()\n",
    "if name =='zahid':\n",
    "    print('your name is '+ name)\n",
    "else:\n",
    "    print(\"NO\")\n"
   ]
  },
  {
   "cell_type": "code",
   "execution_count": null,
   "metadata": {},
   "outputs": [],
   "source": [
    "name = input(\"Enter your name :\").lower()\n",
    "if name =='ZAHID':\n",
    "    print('your name is '+ name)\n",
    "else:\n",
    "    print(\"NO\")"
   ]
  },
  {
   "cell_type": "code",
   "execution_count": null,
   "metadata": {},
   "outputs": [],
   "source": [
    "name = input('your name').lower()\n",
    "if name =='Zahid':\n",
    "    print('your name is '+ name)\n",
    "else:\n",
    "    print(\"write in correct ca\")\n",
    "    "
   ]
  },
  {
   "cell_type": "code",
   "execution_count": null,
   "metadata": {},
   "outputs": [],
   "source": [
    "name = input('your name').title()\n",
    "if name =='Zahid':\n",
    "    print('your name is '+ name)\n",
    "else:\n",
    "    print(\"write in correct casing\")"
   ]
  },
  {
   "cell_type": "code",
   "execution_count": null,
   "metadata": {},
   "outputs": [],
   "source": [
    "name = input('your name').title()\n",
    "\n",
    "    print('your name is '+ name)\n",
    "else:\n",
    "    print(\"write in correct casing\")"
   ]
  },
  {
   "cell_type": "code",
   "execution_count": null,
   "metadata": {},
   "outputs": [],
   "source": [
    "name = input('your name').title()\n",
    "if name:\n",
    "    print('your name is '+ name)\n",
    "else:\n",
    "    print(\"write in correct casing\")"
   ]
  },
  {
   "cell_type": "code",
   "execution_count": null,
   "metadata": {},
   "outputs": [],
   "source": [
    "temp = float(input(\"what is the temperature today?\"))\n",
    "if temp  <=25:\n",
    "    print('wear shots')\n",
    "else:\n",
    "    print('wear pants')\n",
    "    \n"
   ]
  },
  {
   "cell_type": "code",
   "execution_count": null,
   "metadata": {},
   "outputs": [],
   "source": [
    "temp = float(input(\"what is the temperature today?\"))\n",
    "if temp  >=25:\n",
    "    print('wear shots')\n",
    "else:\n",
    "    print('wear pants')\n",
    "    "
   ]
  },
  {
   "cell_type": "code",
   "execution_count": null,
   "metadata": {},
   "outputs": [],
   "source": [
    "temp = float(input(\"what is the temperature today?\"))\n",
    "if temp  >=25:\n",
    "    print('wear shots')\n",
    "else:\n",
    "    print('wear pants')\n",
    "    \n",
    "    "
   ]
  },
  {
   "cell_type": "code",
   "execution_count": null,
   "metadata": {},
   "outputs": [],
   "source": [
    "temp = float(input(\"what is the temperature today?\"))\n",
    "if temp  >=25:\n",
    "    print('wear shots')\n",
    "else:\n",
    "    print('wear pants')\n",
    "    "
   ]
  },
  {
   "cell_type": "code",
   "execution_count": null,
   "metadata": {},
   "outputs": [],
   "source": [
    "temp = float(input(\"what is the temperature today?\"))\n",
    "if temp  >=25:\n",
    "    print('wear shots')\n",
    "else:\n",
    "    print('wear pants')\n",
    "    "
   ]
  },
  {
   "cell_type": "code",
   "execution_count": null,
   "metadata": {},
   "outputs": [],
   "source": [
    "temp = float(input(\"what is the temperature today?\"))\n",
    "if temp  >=25:\n",
    "    print('wear shots')\n",
    "else:\n",
    "    print('wear pants')"
   ]
  },
  {
   "cell_type": "code",
   "execution_count": null,
   "metadata": {},
   "outputs": [],
   "source": [
    "x = float(input('enter your marks '))\n",
    "if x >=90:\n",
    "    print('Grade A*')\n",
    "elif x>=80:    \n",
    "    print('Grade A')\n",
    "elif x>=70:    \n",
    "    print('Grade B')\n",
    "elif x>=60:    \n",
    "    print('Grade C')\n",
    "elif x>=50:    \n",
    "    print('Grade D')\n",
    "else:\n",
    "    print('sorry you are fail')"
   ]
  },
  {
   "cell_type": "code",
   "execution_count": null,
   "metadata": {},
   "outputs": [],
   "source": [
    "x = float(input('enter your marks '))\n",
    "if x >=90:\n",
    "    print('Grade A*')\n",
    "elif x>=80:    \n",
    "    print('Grade A')\n",
    "elif x>=70:    \n",
    "    print('Grade B')\n",
    "elif x>=60:    \n",
    "    print('Grade C')\n",
    "elif x>=50:    \n",
    "    print('Grade D')\n",
    "elif\n",
    "    print('sorry you are fail')"
   ]
  },
  {
   "cell_type": "code",
   "execution_count": null,
   "metadata": {},
   "outputs": [],
   "source": [
    "x = float(input('enter your marks '))\n",
    "if x >=90:\n",
    "    print('Grade A*')\n",
    "elif x>=80:    \n",
    "    print('Grade A')\n",
    "elif x>=70:    \n",
    "    print('Grade B')\n",
    "elif x>=60:    \n",
    "    print('Grade C')\n",
    "elif x<=50:    \n",
    "     print('sorry you are fail')\n",
    "\n",
    "   "
   ]
  },
  {
   "cell_type": "code",
   "execution_count": null,
   "metadata": {},
   "outputs": [],
   "source": [
    "x = float(input('enter your marks out of 100 '))\n",
    "\n",
    "if x > 100:\n",
    "print('error')\n",
    "\n",
    "elif x >=90:\n",
    "    print('Grade A*')\n",
    "elif x>=80:    \n",
    "    print('Grade A')\n",
    "elif x>=70:    \n",
    "    print('Grade B')\n",
    "elif x>=60:    \n",
    "    print('Grade C')\n",
    "elif x>=50:    \n",
    "    print('Grade D')\n",
    "else:\n",
    "    print('sorry you are fail')"
   ]
  },
  {
   "cell_type": "code",
   "execution_count": null,
   "metadata": {},
   "outputs": [],
   "source": [
    "x = float(input('enter your marks out of 100 '))\n",
    "\n",
    "if x > 100:\n",
    "    print('error')\n",
    "\n",
    "elif x >=90:\n",
    "    print('Grade A*')\n",
    "elif x>=80:    \n",
    "    print('Grade A')\n",
    "elif x>=70:    \n",
    "    print('Grade B')\n",
    "elif x>=60:    \n",
    "    print('Grade C')\n",
    "elif x>=50:    \n",
    "    print('Grade D')\n",
    "else:\n",
    "    print('sorry you are fail')"
   ]
  },
  {
   "cell_type": "code",
   "execution_count": 10,
   "metadata": {},
   "outputs": [
    {
     "name": "stdout",
     "output_type": "stream",
     "text": [
      "enter your english marks 66\n",
      "enter your urdu marks 66\n",
      "enter your maths marks 66\n",
      "enter your sci marks 66\n",
      "enter your comp marks 66\n",
      "330.0\n",
      "Grade C\n"
     ]
    },
    {
     "ename": "NameError",
     "evalue": "name 'Obtain_Marks' is not defined",
     "output_type": "error",
     "traceback": [
      "\u001b[1;31m---------------------------------------------------------------------------\u001b[0m",
      "\u001b[1;31mNameError\u001b[0m                                 Traceback (most recent call last)",
      "\u001b[1;32m<ipython-input-10-42a5e9e034c2>\u001b[0m in \u001b[0;36m<module>\u001b[1;34m\u001b[0m\n\u001b[0;32m     24\u001b[0m \u001b[1;32melse\u001b[0m\u001b[1;33m:\u001b[0m\u001b[1;33m\u001b[0m\u001b[1;33m\u001b[0m\u001b[0m\n\u001b[0;32m     25\u001b[0m     \u001b[0mprint\u001b[0m\u001b[1;33m(\u001b[0m\u001b[1;34m'sorry you are fail'\u001b[0m\u001b[1;33m)\u001b[0m\u001b[1;33m\u001b[0m\u001b[1;33m\u001b[0m\u001b[0m\n\u001b[1;32m---> 26\u001b[1;33m \u001b[0mprint\u001b[0m\u001b[1;33m(\u001b[0m\u001b[1;34m'your obtained marks are '\u001b[0m\u001b[1;33m,\u001b[0m\u001b[0mObtain_Marks\u001b[0m\u001b[1;33m)\u001b[0m\u001b[1;33m\u001b[0m\u001b[1;33m\u001b[0m\u001b[0m\n\u001b[0m",
      "\u001b[1;31mNameError\u001b[0m: name 'Obtain_Marks' is not defined"
     ]
    }
   ],
   "source": [
    "eng=float(input(\"enter your english marks \"))\n",
    "urdu=float(input(\"enter your urdu marks \"))\n",
    "maths=float(input(\"enter your maths marks \"))\n",
    "sci=float(input(\"enter your sci marks \"))\n",
    "comp=float(input(\"enter your comp marks \"))\n",
    "obtain_Marks=eng+urdu+maths+sci+comp\n",
    "total_Marks=500\n",
    "print(obtain_Marks)\n",
    "per=(obtain_Marks/total_Marks)*100\n",
    "print(per)\n",
    "if per > 100:\n",
    "    print('error')\n",
    "\n",
    "elif per >=90:\n",
    "    print('Grade A*')\n",
    "elif per>=80:    \n",
    "    print('Grade A')\n",
    "elif per>=70:    \n",
    "    print('Grade B')\n",
    "elif per>=60:    \n",
    "    print('Grade C')\n",
    "elif per>=50:    \n",
    "    print('Grade D')\n",
    "else:\n",
    "    print('sorry you are fail')\n",
    "print('your obtained marks are ',Obtain_Marks)"
   ]
  },
  {
   "cell_type": "code",
   "execution_count": 32,
   "metadata": {},
   "outputs": [
    {
     "name": "stdout",
     "output_type": "stream",
     "text": [
      "enter your english marks 60\n",
      "enter your urdu marks 62\n",
      "enter your maths marks 62\n",
      "enter your sci marks 65\n",
      "enter your comp marks 46\n",
      "u have obtained 295.0Marks\n",
      " your percentage is 59.0\n",
      " your grade is Grade D\n"
     ]
    }
   ],
   "source": [
    "eng=float(input(\"enter your english marks \"))\n",
    "\n",
    "urdu=float(input(\"enter your urdu marks \"))\n",
    "\n",
    "maths=float(input(\"enter your maths marks \"))\n",
    "\n",
    "sci=float(input(\"enter your sci marks \"))\n",
    "\n",
    "comp=float(input(\"enter your comp marks \"))\n",
    "\n",
    "obtain_Marks=eng+urdu+maths+sci+comp\n",
    "\n",
    "total_Marks=500\n",
    "\n",
    "\n",
    "\n",
    "per=(obtain_Marks/total_Marks)*100\n",
    "\n",
    "\n",
    "\n",
    "if per > 100:\n",
    "    print('error')\n",
    "\n",
    "elif per >=90:\n",
    "    grade='Grade A*'\n",
    "elif per>=80:    \n",
    "    grade='Grade A'\n",
    "elif per>=70:    \n",
    "    grade='Grade B'\n",
    "elif per>=60:    \n",
    "    grade='Grade C'\n",
    "elif per>=50:    \n",
    "    grade='Grade D'\n",
    "else:\n",
    "    grade='fail'\n",
    "    #('sorry you are fail')\n",
    "    \n",
    "print('u have obtained '+ str(obtain_Marks) + 'Marks' + '\\n your percentage is '+ str(per)+ '\\n your grade is '+ grade)\n"
   ]
  },
  {
   "cell_type": "code",
   "execution_count": null,
   "metadata": {},
   "outputs": [],
   "source": []
  }
 ],
 "metadata": {
  "kernelspec": {
   "display_name": "Python 3",
   "language": "python",
   "name": "python3"
  },
  "language_info": {
   "codemirror_mode": {
    "name": "ipython",
    "version": 3
   },
   "file_extension": ".py",
   "mimetype": "text/x-python",
   "name": "python",
   "nbconvert_exporter": "python",
   "pygments_lexer": "ipython3",
   "version": "3.7.1"
  }
 },
 "nbformat": 4,
 "nbformat_minor": 2
}
