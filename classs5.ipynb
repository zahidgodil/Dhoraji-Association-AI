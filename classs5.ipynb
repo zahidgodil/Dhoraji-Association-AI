{
 "cells": [
  {
   "cell_type": "code",
   "execution_count": null,
   "metadata": {},
   "outputs": [],
   "source": [
    "name = input(\"Enter your name :\").lower()\n",
    "if name =='zahid':\n",
    "    print('your name is '+ name)\n",
    "else:\n",
    "    print(\"NO\")\n"
   ]
  },
  {
   "cell_type": "code",
   "execution_count": null,
   "metadata": {},
   "outputs": [],
   "source": [
    "name = input(\"Enter your name :\").lower()\n",
    "if name =='ZAHID':\n",
    "    print('your name is '+ name)\n",
    "else:\n",
    "    print(\"NO\")"
   ]
  },
  {
   "cell_type": "code",
   "execution_count": null,
   "metadata": {},
   "outputs": [],
   "source": [
    "name = input('your name').lower()\n",
    "if name =='Zahid':\n",
    "    print('your name is '+ name)\n",
    "else:\n",
    "    print(\"write in correct ca\")\n",
    "    "
   ]
  },
  {
   "cell_type": "code",
   "execution_count": null,
   "metadata": {},
   "outputs": [],
   "source": [
    "name = input('your name').title()\n",
    "if name =='Zahid':\n",
    "    print('your name is '+ name)\n",
    "else:\n",
    "    print(\"write in correct casing\")"
   ]
  },
  {
   "cell_type": "code",
   "execution_count": null,
   "metadata": {},
   "outputs": [],
   "source": [
    "name = input('your name').title()\n",
    "\n",
    "    print('your name is '+ name)\n",
    "else:\n",
    "    print(\"write in correct casing\")"
   ]
  },
  {
   "cell_type": "code",
   "execution_count": null,
   "metadata": {},
   "outputs": [],
   "source": [
    "name = input('your name').title()\n",
    "if name:\n",
    "    print('your name is '+ name)\n",
    "else:\n",
    "    print(\"write in correct casing\")"
   ]
  },
  {
   "cell_type": "code",
   "execution_count": null,
   "metadata": {},
   "outputs": [],
   "source": [
    "temp = float(input(\"what is the temperature today?\"))\n",
    "if temp  <=25:\n",
    "    print('wear shots')\n",
    "else:\n",
    "    print('wear pants')\n",
    "    \n"
   ]
  },
  {
   "cell_type": "code",
   "execution_count": null,
   "metadata": {},
   "outputs": [],
   "source": [
    "temp = float(input(\"what is the temperature today?\"))\n",
    "if temp  >=25:\n",
    "    print('wear shots')\n",
    "else:\n",
    "    print('wear pants')\n",
    "    "
   ]
  },
  {
   "cell_type": "code",
   "execution_count": null,
   "metadata": {},
   "outputs": [],
   "source": [
    "temp = float(input(\"what is the temperature today?\"))\n",
    "if temp  >=25:\n",
    "    print('wear shots')\n",
    "else:\n",
    "    print('wear pants')\n",
    "    \n",
    "    "
   ]
  },
  {
   "cell_type": "code",
   "execution_count": null,
   "metadata": {},
   "outputs": [],
   "source": [
    "temp = float(input(\"what is the temperature today?\"))\n",
    "if temp  >=25:\n",
    "    print('wear shots')\n",
    "else:\n",
    "    print('wear pants')\n",
    "    "
   ]
  },
  {
   "cell_type": "code",
   "execution_count": null,
   "metadata": {},
   "outputs": [],
   "source": [
    "temp = float(input(\"what is the temperature today?\"))\n",
    "if temp  >=25:\n",
    "    print('wear shots')\n",
    "else:\n",
    "    print('wear pants')\n",
    "    "
   ]
  },
  {
   "cell_type": "code",
   "execution_count": null,
   "metadata": {},
   "outputs": [],
   "source": [
    "temp = float(input(\"what is the temperature today?\"))\n",
    "if temp  >=25:\n",
    "    print('wear shots')\n",
    "else:\n",
    "    print('wear pants')"
   ]
  },
  {
   "cell_type": "code",
   "execution_count": null,
   "metadata": {},
   "outputs": [],
   "source": [
    "x = float(input('enter your marks '))\n",
    "if x >=90:\n",
    "    print('Grade A*')\n",
    "elif x>=80:    \n",
    "    print('Grade A')\n",
    "elif x>=70:    \n",
    "    print('Grade B')\n",
    "elif x>=60:    \n",
    "    print('Grade C')\n",
    "elif x>=50:    \n",
    "    print('Grade D')\n",
    "else:\n",
    "    print('sorry you are fail')"
   ]
  },
  {
   "cell_type": "code",
   "execution_count": null,
   "metadata": {},
   "outputs": [],
   "source": [
    "x = float(input('enter your marks '))\n",
    "if x >=90:\n",
    "    print('Grade A*')\n",
    "elif x>=80:    \n",
    "    print('Grade A')\n",
    "elif x>=70:    \n",
    "    print('Grade B')\n",
    "elif x>=60:    \n",
    "    print('Grade C')\n",
    "elif x>=50:    \n",
    "    print('Grade D')\n",
    "elif\n",
    "    print('sorry you are fail')"
   ]
  },
  {
   "cell_type": "code",
   "execution_count": null,
   "metadata": {},
   "outputs": [],
   "source": [
    "x = float(input('enter your marks '))\n",
    "if x >=90:\n",
    "    print('Grade A*')\n",
    "elif x>=80:    \n",
    "    print('Grade A')\n",
    "elif x>=70:    \n",
    "    print('Grade B')\n",
    "elif x>=60:    \n",
    "    print('Grade C')\n",
    "elif x<=50:    \n",
    "     print('sorry you are fail')\n",
    "\n",
    "   "
   ]
  },
  {
   "cell_type": "code",
   "execution_count": null,
   "metadata": {},
   "outputs": [],
   "source": [
    "x = float(input('enter your marks out of 100 '))\n",
    "\n",
    "if x > 100:\n",
    "print('error')\n",
    "\n",
    "elif x >=90:\n",
    "    print('Grade A*')\n",
    "elif x>=80:    \n",
    "    print('Grade A')\n",
    "elif x>=70:    \n",
    "    print('Grade B')\n",
    "elif x>=60:    \n",
    "    print('Grade C')\n",
    "elif x>=50:    \n",
    "    print('Grade D')\n",
    "else:\n",
    "    print('sorry you are fail')"
   ]
  },
  {
   "cell_type": "code",
   "execution_count": null,
   "metadata": {},
   "outputs": [],
   "source": [
    "x = float(input('enter your marks out of 100 '))\n",
    "\n",
    "if x > 100:\n",
    "    print('error')\n",
    "\n",
    "elif x >=90:\n",
    "    print('Grade A*')\n",
    "elif x>=80:    \n",
    "    print('Grade A')\n",
    "elif x>=70:    \n",
    "    print('Grade B')\n",
    "elif x>=60:    \n",
    "    print('Grade C')\n",
    "elif x>=50:    \n",
    "    print('Grade D')\n",
    "else:\n",
    "    print('sorry you are fail')"
   ]
  },
  {
   "cell_type": "code",
   "execution_count": 10,
   "metadata": {},
   "outputs": [
    {
     "name": "stdout",
     "output_type": "stream",
     "text": [
      "enter your english marks 66\n",
      "enter your urdu marks 66\n",
      "enter your maths marks 66\n",
      "enter your sci marks 66\n",
      "enter your comp marks 66\n",
      "330.0\n",
      "Grade C\n"
     ]
    },
    {
     "ename": "NameError",
     "evalue": "name 'Obtain_Marks' is not defined",
     "output_type": "error",
     "traceback": [
      "\u001b[1;31m---------------------------------------------------------------------------\u001b[0m",
      "\u001b[1;31mNameError\u001b[0m                                 Traceback (most recent call last)",
      "\u001b[1;32m<ipython-input-10-42a5e9e034c2>\u001b[0m in \u001b[0;36m<module>\u001b[1;34m\u001b[0m\n\u001b[0;32m     24\u001b[0m \u001b[1;32melse\u001b[0m\u001b[1;33m:\u001b[0m\u001b[1;33m\u001b[0m\u001b[1;33m\u001b[0m\u001b[0m\n\u001b[0;32m     25\u001b[0m     \u001b[0mprint\u001b[0m\u001b[1;33m(\u001b[0m\u001b[1;34m'sorry you are fail'\u001b[0m\u001b[1;33m)\u001b[0m\u001b[1;33m\u001b[0m\u001b[1;33m\u001b[0m\u001b[0m\n\u001b[1;32m---> 26\u001b[1;33m \u001b[0mprint\u001b[0m\u001b[1;33m(\u001b[0m\u001b[1;34m'your obtained marks are '\u001b[0m\u001b[1;33m,\u001b[0m\u001b[0mObtain_Marks\u001b[0m\u001b[1;33m)\u001b[0m\u001b[1;33m\u001b[0m\u001b[1;33m\u001b[0m\u001b[0m\n\u001b[0m",
      "\u001b[1;31mNameError\u001b[0m: name 'Obtain_Marks' is not defined"
     ]
    }
   ],
   "source": [
    "eng=float(input(\"enter your english marks \"))\n",
    "urdu=float(input(\"enter your urdu marks \"))\n",
    "maths=float(input(\"enter your maths marks \"))\n",
    "sci=float(input(\"enter your sci marks \"))\n",
    "comp=float(input(\"enter your comp marks \"))\n",
    "obtain_Marks=eng+urdu+maths+sci+comp\n",
    "total_Marks=500\n",
    "print(obtain_Marks)\n",
    "per=(obtain_Marks/total_Marks)*100\n",
    "print(per)\n",
    "if per > 100:\n",
    "    print('error')\n",
    "\n",
    "elif per >=90:\n",
    "    print('Grade A*')\n",
    "elif per>=80:    \n",
    "    print('Grade A')\n",
    "elif per>=70:    \n",
    "    print('Grade B')\n",
    "elif per>=60:    \n",
    "    print('Grade C')\n",
    "elif per>=50:    \n",
    "    print('Grade D')\n",
    "else:\n",
    "    print('sorry you are fail')\n",
    "print('your obtained marks are ',Obtain_Marks)"
   ]
  },
  {
   "cell_type": "code",
   "execution_count": 32,
   "metadata": {},
   "outputs": [
    {
     "name": "stdout",
     "output_type": "stream",
     "text": [
      "enter your english marks 60\n",
      "enter your urdu marks 62\n",
      "enter your maths marks 62\n",
      "enter your sci marks 65\n",
      "enter your comp marks 46\n",
      "u have obtained 295.0Marks\n",
      " your percentage is 59.0\n",
      " your grade is Grade D\n"
     ]
    }
   ],
   "source": [
    "eng=float(input(\"enter your english marks \"))\n",
    "\n",
    "urdu=float(input(\"enter your urdu marks \"))\n",
    "\n",
    "maths=float(input(\"enter your maths marks \"))\n",
    "\n",
    "sci=float(input(\"enter your sci marks \"))\n",
    "\n",
    "comp=float(input(\"enter your comp marks \"))\n",
    "\n",
    "obtain_Marks=eng+urdu+maths+sci+comp\n",
    "\n",
    "total_Marks=500\n",
    "\n",
    "\n",
    "\n",
    "per=(obtain_Marks/total_Marks)*100\n",
    "\n",
    "\n",
    "\n",
    "if per > 100:\n",
    "    print('error')\n",
    "\n",
    "elif per >=90:\n",
    "    grade='Grade A*'\n",
    "elif per>=80:    \n",
    "    grade='Grade A'\n",
    "elif per>=70:    \n",
    "    grade='Grade B'\n",
    "elif per>=60:    \n",
    "    grade='Grade C'\n",
    "elif per>=50:    \n",
    "    grade='Grade D'\n",
    "else:\n",
    "    grade='fail'\n",
    "    #('sorry you are fail')\n",
    "    \n",
    "print('u have obtained '+ str(obtain_Marks) + 'Marks' + '\\n your percentage is '+ str(per)+ '\\n your grade is '+ grade)\n"
   ]
  },
  {
   "cell_type": "code",
   "execution_count": 5,
   "metadata": {},
   "outputs": [
    {
     "name": "stdout",
     "output_type": "stream",
     "text": [
      "ask from your wife.\n",
      "Is she allow you to go stadium? [Y/N]y\n",
      "do you have tickets? [Y/N]n\n",
      "enter your age:10\n",
      "\n",
      " get loss from here...\n",
      " go to home and watch on tv\n"
     ]
    }
   ],
   "source": [
    "permission = input('ask from your wife.\\nIs she allow you to go stadium? [Y/N]').upper()\n",
    "tickets = input('do you have tickets? [Y/N]').upper()\n",
    "age = int(input('enter your age:'))\n",
    "if age >=18 and permission == \"Y\" and tickets == \"Y\":\n",
    "    print('\\n you are allow for the match')\n",
    "else:\n",
    "    print('\\n get loss from here...\\n go to home and watch on tv')"
   ]
  },
  {
   "cell_type": "code",
   "execution_count": 40,
   "metadata": {},
   "outputs": [
    {
     "name": "stdout",
     "output_type": "stream",
     "text": [
      "enter your age 11\n",
      "You are not eligible to cast vote\n",
      "you will be allowed after 7years\n"
     ]
    }
   ],
   "source": [
    "age = int(input('enter your age '))\n",
    "remainingAge=18-age\n",
    "if age >= 18:\n",
    "    cnic = input('Do you have cnic? [Y/N]').upper()\n",
    "    vlistname = input('Do you have your name in the voters list? [Y/N]').upper()\n",
    "    city = input('enter your city name').title()\n",
    "if (cnic ==\"Y\" and vlistname ==\"Y\") or city!='Lahore':\n",
    "    print('you are allowed to cast vote')\n",
    "else:\n",
    "    print('You are not eligible to cast vote')\n",
    "    print(\"you will be allowed after \"+ str(remainingAge)+\"years\")\n",
    "    \n",
    "        \n",
    "        \n",
    "\n",
    "        "
   ]
  },
  {
   "cell_type": "markdown",
   "metadata": {},
   "source": [
    "# comment\n"
   ]
  },
  {
   "cell_type": "code",
   "execution_count": 41,
   "metadata": {},
   "outputs": [],
   "source": [
    "# print('hello world') # for comments, another option is three times ''' '''\n",
    "\n",
    "# print('hello world')\n",
    "# print('hello world')\n",
    "# print('hello world')\n",
    "# print('hello world')\n",
    "# print('hello world')\n",
    "# print('hello world')"
   ]
  },
  {
   "cell_type": "markdown",
   "metadata": {},
   "source": [
    "# list\n"
   ]
  },
  {
   "cell_type": "code",
   "execution_count": 42,
   "metadata": {},
   "outputs": [
    {
     "data": {
      "text/plain": [
       "'peshawar'"
      ]
     },
     "execution_count": 42,
     "metadata": {},
     "output_type": "execute_result"
    }
   ],
   "source": [
    "myList=['khi','lhr','peshawar','quetta','multan','islamabad']\n",
    "myList[2]"
   ]
  },
  {
   "cell_type": "code",
   "execution_count": 1,
   "metadata": {},
   "outputs": [
    {
     "ename": "NameError",
     "evalue": "name 'friends' is not defined",
     "output_type": "error",
     "traceback": [
      "\u001b[1;31m---------------------------------------------------------------------------\u001b[0m",
      "\u001b[1;31mNameError\u001b[0m                                 Traceback (most recent call last)",
      "\u001b[1;32m<ipython-input-1-6681fcf22648>\u001b[0m in \u001b[0;36m<module>\u001b[1;34m\u001b[0m\n\u001b[1;32m----> 1\u001b[1;33m \u001b[0mfriends\u001b[0m\u001b[1;33m.\u001b[0m\u001b[0mindex\u001b[0m\u001b[1;33m(\u001b[0m\u001b[1;34m'nouman'\u001b[0m\u001b[1;33m)\u001b[0m \u001b[1;31m# provide index of the person in the array\u001b[0m\u001b[1;33m\u001b[0m\u001b[1;33m\u001b[0m\u001b[0m\n\u001b[0m\u001b[0;32m      2\u001b[0m \u001b[1;33m\u001b[0m\u001b[0m\n\u001b[0;32m      3\u001b[0m \u001b[1;34m\"ali\"\u001b[0m \u001b[1;32min\u001b[0m \u001b[0mfriends\u001b[0m \u001b[1;31m# check whether ali is in the list or not\u001b[0m\u001b[1;33m\u001b[0m\u001b[1;33m\u001b[0m\u001b[0m\n",
      "\u001b[1;31mNameError\u001b[0m: name 'friends' is not defined"
     ]
    }
   ],
   "source": [
    "friends.index('nouman') # provide index of the person in the array\n",
    "\n",
    "\"ali\" in friends # check whether ali is in the list or not"
   ]
  },
  {
   "cell_type": "code",
   "execution_count": 3,
   "metadata": {},
   "outputs": [
    {
     "data": {
      "text/plain": [
       "'quetta'"
      ]
     },
     "execution_count": 3,
     "metadata": {},
     "output_type": "execute_result"
    }
   ],
   "source": [
    "myList=['khi','lhr','peshawar','quetta','multan','islamabad']\n",
    "myList[2]\n",
    "myList[-3]"
   ]
  },
  {
   "cell_type": "code",
   "execution_count": 5,
   "metadata": {},
   "outputs": [
    {
     "name": "stdout",
     "output_type": "stream",
     "text": [
      "quetta\n"
     ]
    }
   ],
   "source": [
    "myList=['khi','lhr','peshawar','quetta','multan','islamabad']\n",
    "myList[2]\n",
    "print(myList[-3])"
   ]
  },
  {
   "cell_type": "code",
   "execution_count": 8,
   "metadata": {},
   "outputs": [
    {
     "name": "stdout",
     "output_type": "stream",
     "text": [
      "['khi', 'lhr', 'peshawar', 'hyderabad', 'multan', 'islamabad']\n"
     ]
    }
   ],
   "source": [
    "myList=['khi','lhr','peshawar','quetta','multan','islamabad']\n",
    "myList[3]='hyderabad'\n",
    "print(myList)"
   ]
  },
  {
   "cell_type": "code",
   "execution_count": 9,
   "metadata": {},
   "outputs": [
    {
     "name": "stdout",
     "output_type": "stream",
     "text": [
      "['khi', 'lhr', 'peshawar', 'quetta', 'hyderabad', 'islamabad']\n"
     ]
    }
   ],
   "source": [
    "myList=['khi','lhr','peshawar','quetta','multan','islamabad']\n",
    "myList[-2]='hyderabad'\n",
    "print(myList)"
   ]
  },
  {
   "cell_type": "code",
   "execution_count": 12,
   "metadata": {},
   "outputs": [
    {
     "name": "stdout",
     "output_type": "stream",
     "text": [
      "['khi', 'lhr', 'peshawar', 'quetta', 'multan', 'islamabad', 'hyderabad']\n"
     ]
    }
   ],
   "source": [
    "myList=['khi','lhr','peshawar','quetta','multan','islamabad']\n",
    "myList.append('hyderabad')\n",
    "print(myList)"
   ]
  },
  {
   "cell_type": "code",
   "execution_count": 13,
   "metadata": {},
   "outputs": [
    {
     "ename": "TypeError",
     "evalue": "append() takes exactly one argument (2 given)",
     "output_type": "error",
     "traceback": [
      "\u001b[1;31m---------------------------------------------------------------------------\u001b[0m",
      "\u001b[1;31mTypeError\u001b[0m                                 Traceback (most recent call last)",
      "\u001b[1;32m<ipython-input-13-66fe9fa85163>\u001b[0m in \u001b[0;36m<module>\u001b[1;34m\u001b[0m\n\u001b[0;32m      1\u001b[0m \u001b[0mmyList\u001b[0m\u001b[1;33m=\u001b[0m\u001b[1;33m[\u001b[0m\u001b[1;34m'khi'\u001b[0m\u001b[1;33m,\u001b[0m\u001b[1;34m'lhr'\u001b[0m\u001b[1;33m,\u001b[0m\u001b[1;34m'peshawar'\u001b[0m\u001b[1;33m,\u001b[0m\u001b[1;34m'quetta'\u001b[0m\u001b[1;33m,\u001b[0m\u001b[1;34m'multan'\u001b[0m\u001b[1;33m,\u001b[0m\u001b[1;34m'islamabad'\u001b[0m\u001b[1;33m]\u001b[0m\u001b[1;33m\u001b[0m\u001b[1;33m\u001b[0m\u001b[0m\n\u001b[1;32m----> 2\u001b[1;33m \u001b[0mmyList\u001b[0m\u001b[1;33m.\u001b[0m\u001b[0mappend\u001b[0m\u001b[1;33m(\u001b[0m\u001b[1;34m'hyderabad'\u001b[0m\u001b[1;33m,\u001b[0m\u001b[1;34m'muree'\u001b[0m\u001b[1;33m)\u001b[0m\u001b[1;33m\u001b[0m\u001b[1;33m\u001b[0m\u001b[0m\n\u001b[0m\u001b[0;32m      3\u001b[0m \u001b[0mprint\u001b[0m\u001b[1;33m(\u001b[0m\u001b[0mmyList\u001b[0m\u001b[1;33m)\u001b[0m\u001b[1;33m\u001b[0m\u001b[1;33m\u001b[0m\u001b[0m\n",
      "\u001b[1;31mTypeError\u001b[0m: append() takes exactly one argument (2 given)"
     ]
    }
   ],
   "source": [
    "myList=['khi','lhr','peshawar','quetta','multan','islamabad']\n",
    "myList.append('hyderabad','muree')\n",
    "print(myList)"
   ]
  },
  {
   "cell_type": "code",
   "execution_count": 14,
   "metadata": {},
   "outputs": [
    {
     "data": {
      "text/plain": [
       "1"
      ]
     },
     "execution_count": 14,
     "metadata": {},
     "output_type": "execute_result"
    }
   ],
   "source": [
    "myList.index('lhr')"
   ]
  },
  {
   "cell_type": "code",
   "execution_count": 15,
   "metadata": {},
   "outputs": [
    {
     "data": {
      "text/plain": [
       "'lhr'"
      ]
     },
     "execution_count": 15,
     "metadata": {},
     "output_type": "execute_result"
    }
   ],
   "source": [
    "\"lhr\""
   ]
  },
  {
   "cell_type": "code",
   "execution_count": 16,
   "metadata": {},
   "outputs": [
    {
     "data": {
      "text/plain": [
       "True"
      ]
     },
     "execution_count": 16,
     "metadata": {},
     "output_type": "execute_result"
    }
   ],
   "source": [
    "\"lhr\"in myList"
   ]
  },
  {
   "cell_type": "code",
   "execution_count": 18,
   "metadata": {},
   "outputs": [
    {
     "name": "stdout",
     "output_type": "stream",
     "text": [
      "['car', 'motorbikes', 'trucks', 'aeroplane']\n"
     ]
    }
   ],
   "source": [
    "list=[]\n",
    "list.append('car')\n",
    "list.append('motorbikes')\n",
    "list.append('trucks')\n",
    "list.append('aeroplane')\n",
    "print(list)"
   ]
  },
  {
   "cell_type": "code",
   "execution_count": 19,
   "metadata": {},
   "outputs": [
    {
     "name": "stdout",
     "output_type": "stream",
     "text": [
      "['hamza', 'ali', 'saad', 'hayan', 'hafsah']\n"
     ]
    }
   ],
   "source": [
    "list=['hamza','ali','saad','hayan','hafsah']\n",
    "print(list)"
   ]
  },
  {
   "cell_type": "code",
   "execution_count": 21,
   "metadata": {},
   "outputs": [
    {
     "name": "stdout",
     "output_type": "stream",
     "text": [
      "['hamza', 'ali', 'saad', 'hussain', 'hayan', 'hafsah']\n"
     ]
    }
   ],
   "source": [
    "list=['hamza','ali','saad','hayan','hafsah']\n",
    "list.insert(3,'hussain')\n",
    "print(list)\n"
   ]
  },
  {
   "cell_type": "code",
   "execution_count": 22,
   "metadata": {},
   "outputs": [
    {
     "name": "stdout",
     "output_type": "stream",
     "text": [
      "['hamza', 'ali', 'saad', 'hussain', 'hayan', 'hafsah']\n"
     ]
    }
   ],
   "source": [
    "list=['hamza','ali','saad','hayan','hafsah']\n",
    "list.insert(3,'hussain')\n",
    "print(list)"
   ]
  },
  {
   "cell_type": "code",
   "execution_count": 23,
   "metadata": {},
   "outputs": [
    {
     "name": "stdout",
     "output_type": "stream",
     "text": [
      "['hamza', 'ali', 'hayan', 'saad', 'hafsah']\n"
     ]
    }
   ],
   "source": [
    "list=['hamza','ali','saad','hayan','saad','hafsah']\n",
    "list.remove('saad')\n",
    "print(list)"
   ]
  },
  {
   "cell_type": "code",
   "execution_count": 28,
   "metadata": {},
   "outputs": [
    {
     "name": "stdout",
     "output_type": "stream",
     "text": [
      "3\n",
      "['hamza', 'ali', 'saad', 'hafsah']\n"
     ]
    }
   ],
   "source": [
    "list=['hamza','ali','saad','hayan','hafsah']\n",
    "print(list.index('hayan'))\n",
    "del list[3]\n",
    "print(list)"
   ]
  },
  {
   "cell_type": "code",
   "execution_count": 41,
   "metadata": {},
   "outputs": [
    {
     "name": "stdout",
     "output_type": "stream",
     "text": [
      "have you completed your all task? [Y/N]y\n",
      "Task1\n",
      "['Task5', 'Task4', 'Task3', 'Task2']\n",
      "Task1\n"
     ]
    }
   ],
   "source": [
    "list=['Task5', 'Task4', 'Task3', 'Task2', 'Task1']\n",
    "task_done=[]\n",
    "user=input('have you completed your all task? [Y/N]').upper()\n",
    "if user=='Y':\n",
    "    task_done = list.pop()\n",
    "    print(task_done)\n",
    "    print(list)\n",
    "    \n",
    "else:\n",
    "    print('plz finish the task')\n",
    "\n",
    "# if user=='Y':\n",
    "#     task2=input('have you completed your task2? [Y/N]').upper() \n",
    "#     if task2=='Y'\n",
    "#     task_done.append('Task2')\n",
    "#     list.pop()\n",
    "#     print('please attempt Task3')\n",
    "# else:\n",
    "#     print('plz finish the task')\n",
    "    \n",
    "# if user=='Y':\n",
    "#     task3=input('have you completed your task3? [Y/N]').upper() \n",
    "#     if task3=='Y'\n",
    "#     task_done.append('Task3')\n",
    "#     list.pop()\n",
    "#     print('please attempt Task4')\n",
    "# else:\n",
    "#     print('plz finish the task')   \n",
    "    \n",
    "# if user=='Y':\n",
    "#     task4=input('have you completed your task4? [Y/N]').upper() \n",
    "#     if task4=='Y'\n",
    "#     task_done.append('Task4')\n",
    "#     list.pop()\n",
    "#     print('please attempt Task5')\n",
    "# else:\n",
    "#     print('plz finish the task')  \n",
    "    \n",
    "# if user=='Y':\n",
    "#     task5=input('have you completed your task5? [Y/N]').upper() \n",
    "#     if task5=='Y'\n",
    "#     task_done.append('Task5')\n",
    "#     list.pop()\n",
    "#     print('congrats')\n",
    "# else:\n",
    "#     print('plz finish the task')    \n",
    "    \n",
    "print(task_done)    \n",
    "     \n",
    "    \n",
    "    \n"
   ]
  },
  {
   "cell_type": "code",
   "execution_count": null,
   "metadata": {},
   "outputs": [],
   "source": [
    "todolist=['call sara', 'play','take lunch','goto shopping']\n",
    "\n",
    "complete_task=[]\n"
   ]
  },
  {
   "cell_type": "code",
   "execution_count": 47,
   "metadata": {},
   "outputs": [
    {
     "name": "stdout",
     "output_type": "stream",
     "text": [
      "Enter your task:play\n",
      "['call sara', 'take lunch', 'goto shopping']\n",
      "['play']\n"
     ]
    }
   ],
   "source": [
    "todolist=['call sara', 'play','take lunch','goto shopping']\n",
    "\n",
    "complete_task=[]\n",
    "\n",
    "task =input(\"Enter your task:\")\n",
    "if task in todolist:\n",
    "    index=todolist.index(task)\n",
    "    complete_task.append(todolist.pop(index))\n",
    "    print(todolist)\n",
    "    print(complete_task)\n",
    "else:\n",
    "    print(\"This taks is not in list\")\n",
    "    "
   ]
  },
  {
   "cell_type": "code",
   "execution_count": null,
   "metadata": {},
   "outputs": [],
   "source": []
  },
  {
   "cell_type": "code",
   "execution_count": null,
   "metadata": {},
   "outputs": [],
   "source": []
  }
 ],
 "metadata": {
  "kernelspec": {
   "display_name": "Python 3",
   "language": "python",
   "name": "python3"
  },
  "language_info": {
   "codemirror_mode": {
    "name": "ipython",
    "version": 3
   },
   "file_extension": ".py",
   "mimetype": "text/x-python",
   "name": "python",
   "nbconvert_exporter": "python",
   "pygments_lexer": "ipython3",
   "version": "3.7.1"
  }
 },
 "nbformat": 4,
 "nbformat_minor": 2
}
