{
 "cells": [
  {
   "cell_type": "code",
   "execution_count": null,
   "metadata": {},
   "outputs": [],
   "source": [
    "name = input(\"Enter your name :\").lower()\n",
    "if name =='zahid':\n",
    "    print('your name is '+ name)\n",
    "else:\n",
    "    print(\"NO\")\n"
   ]
  },
  {
   "cell_type": "code",
   "execution_count": null,
   "metadata": {},
   "outputs": [],
   "source": [
    "name = input(\"Enter your name :\").lower()\n",
    "if name =='ZAHID':\n",
    "    print('your name is '+ name)\n",
    "else:\n",
    "    print(\"NO\")"
   ]
  },
  {
   "cell_type": "code",
   "execution_count": null,
   "metadata": {},
   "outputs": [],
   "source": [
    "name = input('your name').lower()\n",
    "if name =='Zahid':\n",
    "    print('your name is '+ name)\n",
    "else:\n",
    "    print(\"write in correct ca\")\n",
    "    "
   ]
  },
  {
   "cell_type": "code",
   "execution_count": null,
   "metadata": {},
   "outputs": [],
   "source": [
    "name = input('your name').title()\n",
    "if name =='Zahid':\n",
    "    print('your name is '+ name)\n",
    "else:\n",
    "    print(\"write in correct casing\")"
   ]
  },
  {
   "cell_type": "code",
   "execution_count": null,
   "metadata": {},
   "outputs": [],
   "source": [
    "name = input('your name').title()\n",
    "\n",
    "    print('your name is '+ name)\n",
    "else:\n",
    "    print(\"write in correct casing\")"
   ]
  },
  {
   "cell_type": "code",
   "execution_count": null,
   "metadata": {},
   "outputs": [],
   "source": [
    "name = input('your name').title()\n",
    "if name:\n",
    "    print('your name is '+ name)\n",
    "else:\n",
    "    print(\"write in correct casing\")"
   ]
  },
  {
   "cell_type": "code",
   "execution_count": null,
   "metadata": {},
   "outputs": [],
   "source": [
    "temp = float(input(\"what is the temperature today?\"))\n",
    "if temp  <=25:\n",
    "    print('wear shots')\n",
    "else:\n",
    "    print('wear pants')\n",
    "    \n"
   ]
  },
  {
   "cell_type": "code",
   "execution_count": null,
   "metadata": {},
   "outputs": [],
   "source": [
    "temp = float(input(\"what is the temperature today?\"))\n",
    "if temp  >=25:\n",
    "    print('wear shots')\n",
    "else:\n",
    "    print('wear pants')\n",
    "    "
   ]
  },
  {
   "cell_type": "code",
   "execution_count": null,
   "metadata": {},
   "outputs": [],
   "source": [
    "temp = float(input(\"what is the temperature today?\"))\n",
    "if temp  >=25:\n",
    "    print('wear shots')\n",
    "else:\n",
    "    print('wear pants')\n",
    "    \n",
    "    "
   ]
  },
  {
   "cell_type": "code",
   "execution_count": null,
   "metadata": {},
   "outputs": [],
   "source": [
    "temp = float(input(\"what is the temperature today?\"))\n",
    "if temp  >=25:\n",
    "    print('wear shots')\n",
    "else:\n",
    "    print('wear pants')\n",
    "    "
   ]
  },
  {
   "cell_type": "code",
   "execution_count": null,
   "metadata": {},
   "outputs": [],
   "source": [
    "temp = float(input(\"what is the temperature today?\"))\n",
    "if temp  >=25:\n",
    "    print('wear shots')\n",
    "else:\n",
    "    print('wear pants')\n",
    "    "
   ]
  },
  {
   "cell_type": "code",
   "execution_count": null,
   "metadata": {},
   "outputs": [],
   "source": [
    "temp = float(input(\"what is the temperature today?\"))\n",
    "if temp  >=25:\n",
    "    print('wear shots')\n",
    "else:\n",
    "    print('wear pants')"
   ]
  },
  {
   "cell_type": "code",
   "execution_count": null,
   "metadata": {},
   "outputs": [],
   "source": [
    "x = float(input('enter your marks '))\n",
    "if x >=90:\n",
    "    print('Grade A*')\n",
    "elif x>=80:    \n",
    "    print('Grade A')\n",
    "elif x>=70:    \n",
    "    print('Grade B')\n",
    "elif x>=60:    \n",
    "    print('Grade C')\n",
    "elif x>=50:    \n",
    "    print('Grade D')\n",
    "else:\n",
    "    print('sorry you are fail')"
   ]
  },
  {
   "cell_type": "code",
   "execution_count": null,
   "metadata": {},
   "outputs": [],
   "source": [
    "x = float(input('enter your marks '))\n",
    "if x >=90:\n",
    "    print('Grade A*')\n",
    "elif x>=80:    \n",
    "    print('Grade A')\n",
    "elif x>=70:    \n",
    "    print('Grade B')\n",
    "elif x>=60:    \n",
    "    print('Grade C')\n",
    "elif x>=50:    \n",
    "    print('Grade D')\n",
    "elif\n",
    "    print('sorry you are fail')"
   ]
  },
  {
   "cell_type": "code",
   "execution_count": null,
   "metadata": {},
   "outputs": [],
   "source": [
    "x = float(input('enter your marks '))\n",
    "if x >=90:\n",
    "    print('Grade A*')\n",
    "elif x>=80:    \n",
    "    print('Grade A')\n",
    "elif x>=70:    \n",
    "    print('Grade B')\n",
    "elif x>=60:    \n",
    "    print('Grade C')\n",
    "elif x<=50:    \n",
    "     print('sorry you are fail')\n",
    "\n",
    "   "
   ]
  },
  {
   "cell_type": "code",
   "execution_count": null,
   "metadata": {},
   "outputs": [],
   "source": [
    "x = float(input('enter your marks out of 100 '))\n",
    "\n",
    "if x > 100:\n",
    "print('error')\n",
    "\n",
    "elif x >=90:\n",
    "    print('Grade A*')\n",
    "elif x>=80:    \n",
    "    print('Grade A')\n",
    "elif x>=70:    \n",
    "    print('Grade B')\n",
    "elif x>=60:    \n",
    "    print('Grade C')\n",
    "elif x>=50:    \n",
    "    print('Grade D')\n",
    "else:\n",
    "    print('sorry you are fail')"
   ]
  },
  {
   "cell_type": "code",
   "execution_count": null,
   "metadata": {},
   "outputs": [],
   "source": [
    "x = float(input('enter your marks out of 100 '))\n",
    "\n",
    "if x > 100:\n",
    "    print('error')\n",
    "\n",
    "elif x >=90:\n",
    "    print('Grade A*')\n",
    "elif x>=80:    \n",
    "    print('Grade A')\n",
    "elif x>=70:    \n",
    "    print('Grade B')\n",
    "elif x>=60:    \n",
    "    print('Grade C')\n",
    "elif x>=50:    \n",
    "    print('Grade D')\n",
    "else:\n",
    "    print('sorry you are fail')"
   ]
  },
  {
   "cell_type": "code",
   "execution_count": null,
   "metadata": {},
   "outputs": [],
   "source": [
    "eng=float(input(\"enter your english marks \"))\n",
    "urdu=float(input(\"enter your urdu marks \"))\n",
    "maths=float(input(\"enter your maths marks \"))\n",
    "sci=float(input(\"enter your sci marks \"))\n",
    "comp=float(input(\"enter your comp marks \"))\n",
    "obtain_Marks=eng+urdu+maths+sci+comp\n",
    "total_Marks=500\n",
    "print(obtain_Marks)\n",
    "per=(obtain_Marks/total_Marks)*100\n",
    "print(per)\n",
    "if per > 100:\n",
    "    print('error')\n",
    "\n",
    "elif per >=90:\n",
    "    print('Grade A*')\n",
    "elif per>=80:    \n",
    "    print('Grade A')\n",
    "elif per>=70:    \n",
    "    print('Grade B')\n",
    "elif per>=60:    \n",
    "    print('Grade C')\n",
    "elif per>=50:    \n",
    "    print('Grade D')\n",
    "else:\n",
    "    print('sorry you are fail')\n",
    "print('your obtained marks are ',Obtain_Marks)"
   ]
  },
  {
   "cell_type": "code",
   "execution_count": null,
   "metadata": {},
   "outputs": [],
   "source": [
    "eng=float(input(\"enter your english marks \"))\n",
    "\n",
    "urdu=float(input(\"enter your urdu marks \"))\n",
    "\n",
    "maths=float(input(\"enter your maths marks \"))\n",
    "\n",
    "sci=float(input(\"enter your sci marks \"))\n",
    "\n",
    "comp=float(input(\"enter your comp marks \"))\n",
    "\n",
    "obtain_Marks=eng+urdu+maths+sci+comp\n",
    "\n",
    "total_Marks=500\n",
    "\n",
    "\n",
    "\n",
    "per=(obtain_Marks/total_Marks)*100\n",
    "\n",
    "\n",
    "\n",
    "if per > 100:\n",
    "    print('error')\n",
    "\n",
    "elif per >=90:\n",
    "    grade='Grade A*'\n",
    "elif per>=80:    \n",
    "    grade='Grade A'\n",
    "elif per>=70:    \n",
    "    grade='Grade B'\n",
    "elif per>=60:    \n",
    "    grade='Grade C'\n",
    "elif per>=50:    \n",
    "    grade='Grade D'\n",
    "else:\n",
    "    grade='fail'\n",
    "    #('sorry you are fail')\n",
    "    \n",
    "print('u have obtained '+ str(obtain_Marks) + 'Marks' + '\\n your percentage is '+ str(per)+ '\\n your grade is '+ grade)\n"
   ]
  },
  {
   "cell_type": "code",
   "execution_count": null,
   "metadata": {},
   "outputs": [],
   "source": [
    "permission = input('ask from your wife.\\nIs she allow you to go stadium? [Y/N]').upper()\n",
    "tickets = input('do you have tickets? [Y/N]').upper()\n",
    "age = int(input('enter your age:'))\n",
    "if age >=18 and permission == \"Y\" and tickets == \"Y\":\n",
    "    print('\\n you are allow for the match')\n",
    "else:\n",
    "    print('\\n get loss from here...\\n go to home and watch on tv')"
   ]
  },
  {
   "cell_type": "code",
   "execution_count": null,
   "metadata": {},
   "outputs": [],
   "source": [
    "age = int(input('enter your age '))\n",
    "remainingAge=18-age\n",
    "if age >= 18:\n",
    "    cnic = input('Do you have cnic? [Y/N]').upper()\n",
    "    vlistname = input('Do you have your name in the voters list? [Y/N]').upper()\n",
    "    city = input('enter your city name').title()\n",
    "if (cnic ==\"Y\" and vlistname ==\"Y\") or city!='Lahore':\n",
    "    print('you are allowed to cast vote')\n",
    "else:\n",
    "    print('You are not eligible to cast vote')\n",
    "    print(\"you will be allowed after \"+ str(remainingAge)+\"years\")\n",
    "    \n",
    "        \n",
    "        \n",
    "\n",
    "        "
   ]
  },
  {
   "cell_type": "markdown",
   "metadata": {},
   "source": [
    "# comment\n"
   ]
  },
  {
   "cell_type": "code",
   "execution_count": null,
   "metadata": {},
   "outputs": [],
   "source": [
    "# print('hello world') # for comments, another option is three times ''' '''\n",
    "\n",
    "# print('hello world')\n",
    "# print('hello world')\n",
    "# print('hello world')\n",
    "# print('hello world')\n",
    "# print('hello world')\n",
    "# print('hello world')"
   ]
  },
  {
   "cell_type": "markdown",
   "metadata": {},
   "source": [
    "# list\n"
   ]
  },
  {
   "cell_type": "code",
   "execution_count": null,
   "metadata": {},
   "outputs": [],
   "source": [
    "myList=['khi','lhr','peshawar','quetta','multan','islamabad']\n",
    "myList[2]"
   ]
  },
  {
   "cell_type": "code",
   "execution_count": null,
   "metadata": {},
   "outputs": [],
   "source": [
    "friends.index('nouman') # provide index of the person in the array\n",
    "\n",
    "\"ali\" in friends # check whether ali is in the list or not"
   ]
  },
  {
   "cell_type": "code",
   "execution_count": null,
   "metadata": {},
   "outputs": [],
   "source": [
    "myList=['khi','lhr','peshawar','quetta','multan','islamabad']\n",
    "myList[2]\n",
    "myList[-3]"
   ]
  },
  {
   "cell_type": "code",
   "execution_count": null,
   "metadata": {},
   "outputs": [],
   "source": [
    "myList=['khi','lhr','peshawar','quetta','multan','islamabad']\n",
    "myList[2]\n",
    "print(myList[-3])"
   ]
  },
  {
   "cell_type": "code",
   "execution_count": null,
   "metadata": {},
   "outputs": [],
   "source": [
    "myList=['khi','lhr','peshawar','quetta','multan','islamabad']\n",
    "myList[3]='hyderabad'\n",
    "print(myList)"
   ]
  },
  {
   "cell_type": "code",
   "execution_count": null,
   "metadata": {},
   "outputs": [],
   "source": [
    "myList=['khi','lhr','peshawar','quetta','multan','islamabad']\n",
    "myList[-2]='hyderabad'\n",
    "print(myList)"
   ]
  },
  {
   "cell_type": "code",
   "execution_count": null,
   "metadata": {},
   "outputs": [],
   "source": [
    "myList=['khi','lhr','peshawar','quetta','multan','islamabad']\n",
    "myList.append('hyderabad')\n",
    "print(myList)"
   ]
  },
  {
   "cell_type": "code",
   "execution_count": null,
   "metadata": {},
   "outputs": [],
   "source": [
    "myList=['khi','lhr','peshawar','quetta','multan','islamabad']\n",
    "myList.append('hyderabad','muree')\n",
    "print(myList)"
   ]
  },
  {
   "cell_type": "code",
   "execution_count": null,
   "metadata": {},
   "outputs": [],
   "source": [
    "myList.index('lhr')"
   ]
  },
  {
   "cell_type": "code",
   "execution_count": null,
   "metadata": {},
   "outputs": [],
   "source": [
    "\"lhr\""
   ]
  },
  {
   "cell_type": "code",
   "execution_count": null,
   "metadata": {},
   "outputs": [],
   "source": [
    "\"lhr\"in myList"
   ]
  },
  {
   "cell_type": "code",
   "execution_count": null,
   "metadata": {},
   "outputs": [],
   "source": [
    "list=[]\n",
    "list.append('car')\n",
    "list.append('motorbikes')\n",
    "list.append('trucks')\n",
    "list.append('aeroplane')\n",
    "print(list)"
   ]
  },
  {
   "cell_type": "code",
   "execution_count": null,
   "metadata": {},
   "outputs": [],
   "source": [
    "list=['hamza','ali','saad','hayan','hafsah']\n",
    "print(list)"
   ]
  },
  {
   "cell_type": "code",
   "execution_count": null,
   "metadata": {},
   "outputs": [],
   "source": [
    "list=['hamza','ali','saad','hayan','hafsah']\n",
    "list.insert(3,'hussain')\n",
    "print(list)\n"
   ]
  },
  {
   "cell_type": "code",
   "execution_count": null,
   "metadata": {},
   "outputs": [],
   "source": [
    "list=['hamza','ali','saad','hayan','hafsah']\n",
    "list.insert(3,'hussain')\n",
    "print(list)"
   ]
  },
  {
   "cell_type": "code",
   "execution_count": null,
   "metadata": {},
   "outputs": [],
   "source": [
    "list=['hamza','ali','saad','hayan','saad','hafsah']\n",
    "list.remove('saad')\n",
    "print(list)"
   ]
  },
  {
   "cell_type": "code",
   "execution_count": null,
   "metadata": {},
   "outputs": [],
   "source": [
    "list=['hamza','ali','saad','hayan','hafsah']\n",
    "print(list.index('hayan'))\n",
    "del list[3]\n",
    "print(list)"
   ]
  },
  {
   "cell_type": "code",
   "execution_count": null,
   "metadata": {},
   "outputs": [],
   "source": [
    "list=['Task5', 'Task4', 'Task3', 'Task2', 'Task1']\n",
    "task_done=[]\n",
    "user=input('have you completed your all task? [Y/N]').upper()\n",
    "if user=='Y':\n",
    "    task_done = list.pop()\n",
    "    print(task_done)\n",
    "    print(list)\n",
    "    \n",
    "else:\n",
    "    print('plz finish the task')\n",
    "\n",
    "# if user=='Y':\n",
    "#     task2=input('have you completed your task2? [Y/N]').upper() \n",
    "#     if task2=='Y'\n",
    "#     task_done.append('Task2')\n",
    "#     list.pop()\n",
    "#     print('please attempt Task3')\n",
    "# else:\n",
    "#     print('plz finish the task')\n",
    "    \n",
    "# if user=='Y':\n",
    "#     task3=input('have you completed your task3? [Y/N]').upper() \n",
    "#     if task3=='Y'\n",
    "#     task_done.append('Task3')\n",
    "#     list.pop()\n",
    "#     print('please attempt Task4')\n",
    "# else:\n",
    "#     print('plz finish the task')   \n",
    "    \n",
    "# if user=='Y':\n",
    "#     task4=input('have you completed your task4? [Y/N]').upper() \n",
    "#     if task4=='Y'\n",
    "#     task_done.append('Task4')\n",
    "#     list.pop()\n",
    "#     print('please attempt Task5')\n",
    "# else:\n",
    "#     print('plz finish the task')  \n",
    "    \n",
    "# if user=='Y':\n",
    "#     task5=input('have you completed your task5? [Y/N]').upper() \n",
    "#     if task5=='Y'\n",
    "#     task_done.append('Task5')\n",
    "#     list.pop()\n",
    "#     print('congrats')\n",
    "# else:\n",
    "#     print('plz finish the task')    \n",
    "    \n",
    "print(task_done)    \n",
    "     \n",
    "    \n",
    "    \n"
   ]
  },
  {
   "cell_type": "code",
   "execution_count": null,
   "metadata": {},
   "outputs": [],
   "source": [
    "todolist=['call sara', 'play','take lunch','goto shopping']\n",
    "\n",
    "complete_task=[]\n"
   ]
  },
  {
   "cell_type": "code",
   "execution_count": null,
   "metadata": {},
   "outputs": [],
   "source": [
    "todolist=['call sara', 'play','take lunch','goto shopping']\n",
    "\n",
    "complete_task=[]\n",
    "\n",
    "task =input(\"Enter your task:\")\n",
    "if task in todolist:\n",
    "    index=todolist.index(task)\n",
    "    complete_task.append(todolist.pop(index))\n",
    "    print(todolist)\n",
    "    print(complete_task)\n",
    "else:\n",
    "    print(\"This taks is not in list\")\n",
    "    "
   ]
  },
  {
   "cell_type": "markdown",
   "metadata": {},
   "source": [
    "# 27-mar-19   slicing"
   ]
  },
  {
   "cell_type": "code",
   "execution_count": null,
   "metadata": {},
   "outputs": [],
   "source": [
    "#slicing---slicing always travel from left to right----"
   ]
  },
  {
   "cell_type": "code",
   "execution_count": null,
   "metadata": {},
   "outputs": [],
   "source": [
    "#      [-9-8-7-6-5-4-3-2-1]\n",
    "list1 = [9,8,7,6,5,4,3,2,1]\n",
    "#      [0 1 2 3 4 5 6 7 8]\n",
    "list1"
   ]
  },
  {
   "cell_type": "code",
   "execution_count": null,
   "metadata": {},
   "outputs": [],
   "source": [
    "#list1[start:end]\n",
    "list2 =list1[3:5]\n",
    "list2"
   ]
  },
  {
   "cell_type": "code",
   "execution_count": null,
   "metadata": {},
   "outputs": [],
   "source": [
    "#list1[start:end]\n",
    "list2 = list1[3:5]\n",
    "print(list2)"
   ]
  },
  {
   "cell_type": "code",
   "execution_count": null,
   "metadata": {},
   "outputs": [],
   "source": [
    "list3=list1[5:3]\n",
    "list3"
   ]
  },
  {
   "cell_type": "code",
   "execution_count": null,
   "metadata": {},
   "outputs": [],
   "source": [
    "reversedSliced=list1[-6:-4]\n",
    "reversedSliced"
   ]
  },
  {
   "cell_type": "code",
   "execution_count": null,
   "metadata": {},
   "outputs": [],
   "source": [
    "friends=['zohaib','umer','ali','hamza']\n",
    "\n",
    "\n",
    "print(friends[0].upper()+' you are invited by me on dinner ' ) \n",
    "print(friends[1].upper()+' you are invited by me on dinner ' ) \n",
    "print(friends[2].upper()+' you are invited by me on dinner ' ) \n",
    "print(friends[3].upper()+' you are invited by me on dinner ' ) "
   ]
  },
  {
   "cell_type": "code",
   "execution_count": null,
   "metadata": {},
   "outputs": [],
   "source": [
    "friends=['zohaib','umer','ali','hamza']\n",
    "friends.append('zahid')\n",
    "friends.insert(0,'hayan')\n",
    "friends.insert(3,'hussain')\n",
    "\n",
    "print('we found a bigger dinner table so Mr '+friends[0].upper()+' you are invited by me on dinner')\n",
    "print('we found a bigger dinner table so Mr '+friends[1].upper()+' you are invited by me on dinner')\n",
    "print('we found a bigger dinner table so Mr '+friends[2].upper()+' you are invited by me on dinner')\n",
    "print('we found a bigger dinner table so Mr '+friends[3].upper()+' you are invited by me on dinner')\n",
    "print('we found a bigger dinner table so Mr '+friends[4].upper()+' you are invited by me on dinner')\n",
    "print('we found a bigger dinner table so Mr '+friends[5].upper()+' you are invited by me on dinner')\n",
    "print('we found a bigger dinner table so Mr '+friends[6].upper()+' you are invited by me on dinner')\n",
    "print('we found a bigger dinner table so Mr '+friends[7].upper()+' you are invited by me on dinner')"
   ]
  },
  {
   "cell_type": "code",
   "execution_count": 8,
   "metadata": {},
   "outputs": [],
   "source": [
    "ekList=[4,5,6,7,8,9]\n",
    "list2=ekList.copy()"
   ]
  },
  {
   "cell_type": "code",
   "execution_count": 9,
   "metadata": {},
   "outputs": [
    {
     "name": "stdout",
     "output_type": "stream",
     "text": [
      "[4, 5, 6, 7, 8, 9, 4665]\n",
      "[4, 5, 6, 7, 8, 9]\n"
     ]
    }
   ],
   "source": [
    "ekList.append(4665)\n",
    "print(ekList)\n",
    "print(list2)"
   ]
  },
  {
   "cell_type": "code",
   "execution_count": 10,
   "metadata": {},
   "outputs": [],
   "source": [
    "s=list2[:] # works same as copy the list "
   ]
  },
  {
   "cell_type": "code",
   "execution_count": 11,
   "metadata": {},
   "outputs": [
    {
     "name": "stdout",
     "output_type": "stream",
     "text": [
      "[5, 6] [8, 9]\n"
     ]
    }
   ],
   "source": [
    "print(s[1:3],s[4:])"
   ]
  },
  {
   "cell_type": "code",
   "execution_count": null,
   "metadata": {},
   "outputs": [],
   "source": [
    "s.clear() # clears the list"
   ]
  },
  {
   "cell_type": "code",
   "execution_count": null,
   "metadata": {},
   "outputs": [],
   "source": [
    "s"
   ]
  },
  {
   "cell_type": "code",
   "execution_count": 6,
   "metadata": {},
   "outputs": [
    {
     "data": {
      "text/plain": [
       "3"
      ]
     },
     "execution_count": 6,
     "metadata": {},
     "output_type": "execute_result"
    }
   ],
   "source": [
    "q=[3,4,5,6,7,8,8,9,8,0,1]\n",
    "q.count(8)"
   ]
  },
  {
   "cell_type": "code",
   "execution_count": null,
   "metadata": {},
   "outputs": [],
   "source": [
    "del q[1] # for delete always done by giving the index number"
   ]
  },
  {
   "cell_type": "code",
   "execution_count": null,
   "metadata": {},
   "outputs": [],
   "source": [
    "q"
   ]
  },
  {
   "cell_type": "code",
   "execution_count": null,
   "metadata": {},
   "outputs": [],
   "source": [
    "q.remove(9) # remove done on the basis of value\n"
   ]
  },
  {
   "cell_type": "code",
   "execution_count": null,
   "metadata": {},
   "outputs": [],
   "source": [
    "poppedV=q.pop(2)"
   ]
  },
  {
   "cell_type": "code",
   "execution_count": null,
   "metadata": {},
   "outputs": [],
   "source": [
    "poppedV"
   ]
  },
  {
   "cell_type": "code",
   "execution_count": null,
   "metadata": {},
   "outputs": [],
   "source": [
    "q.extend('ahsunnnn')\n",
    "print(q)"
   ]
  },
  {
   "cell_type": "code",
   "execution_count": 1,
   "metadata": {},
   "outputs": [],
   "source": [
    "list1 = [45,65,1,65,23,95]\n",
    "\n"
   ]
  },
  {
   "cell_type": "code",
   "execution_count": 2,
   "metadata": {},
   "outputs": [
    {
     "data": {
      "text/plain": [
       "294"
      ]
     },
     "execution_count": 2,
     "metadata": {},
     "output_type": "execute_result"
    }
   ],
   "source": [
    "sum(list1)"
   ]
  },
  {
   "cell_type": "code",
   "execution_count": 3,
   "metadata": {},
   "outputs": [
    {
     "data": {
      "text/plain": [
       "95"
      ]
     },
     "execution_count": 3,
     "metadata": {},
     "output_type": "execute_result"
    }
   ],
   "source": [
    "max(list1)"
   ]
  },
  {
   "cell_type": "code",
   "execution_count": 4,
   "metadata": {},
   "outputs": [
    {
     "data": {
      "text/plain": [
       "1"
      ]
     },
     "execution_count": 4,
     "metadata": {},
     "output_type": "execute_result"
    }
   ],
   "source": [
    "min(list1)"
   ]
  },
  {
   "cell_type": "code",
   "execution_count": 6,
   "metadata": {},
   "outputs": [
    {
     "data": {
      "text/plain": [
       "6"
      ]
     },
     "execution_count": 6,
     "metadata": {},
     "output_type": "execute_result"
    }
   ],
   "source": [
    "listInList=['q',5,[1,2,3,4,5,[4,5,6]]]\n",
    "listInList[2][5][2]"
   ]
  },
  {
   "cell_type": "code",
   "execution_count": 3,
   "metadata": {},
   "outputs": [
    {
     "data": {
      "text/plain": [
       "1"
      ]
     },
     "execution_count": 3,
     "metadata": {},
     "output_type": "execute_result"
    }
   ],
   "source": [
    "listInList=['q',5,[1,2,3,4,5,[4,5,6]]]\n",
    "listInList[2][5].index(5)"
   ]
  },
  {
   "cell_type": "code",
   "execution_count": null,
   "metadata": {},
   "outputs": [],
   "source": []
  }
 ],
 "metadata": {
  "kernelspec": {
   "display_name": "Python 3",
   "language": "python",
   "name": "python3"
  },
  "language_info": {
   "codemirror_mode": {
    "name": "ipython",
    "version": 3
   },
   "file_extension": ".py",
   "mimetype": "text/x-python",
   "name": "python",
   "nbconvert_exporter": "python",
   "pygments_lexer": "ipython3",
   "version": "3.7.1"
  }
 },
 "nbformat": 4,
 "nbformat_minor": 2
}
